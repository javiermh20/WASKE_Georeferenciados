{
 "cells": [
  {
   "cell_type": "code",
   "execution_count": null,
   "metadata": {},
   "outputs": [],
   "source": [
    "def validar_contraseña(cadena):\n",
    "    hasMayus = False\n",
    "    hasNumber = False\n",
    "    if len(cadena) > 8:\n",
    "        for char in cadena:\n",
    "            if(char.isupper()):\n",
    "                hasMayus = True\n",
    "            if(char.isdigit()):\n",
    "                hasNumber = True\n",
    "            if(hasMayus and hasNumber):\n",
    "                return True\n",
    "    return False\n",
    "\n",
    "print(validar_contraseña(\"Manuel1ss\"))"
   ]
  },
  {
   "cell_type": "code",
   "execution_count": 1,
   "metadata": {},
   "outputs": [
    {
     "name": "stdout",
     "output_type": "stream",
     "text": [
      "El monto acumulado después de 3 años es: 1061.21\n"
     ]
    }
   ],
   "source": [
    "def interes_compuesto(Ci, Tia, Na):\n",
    "    Td = Tia / 100.0\n",
    "    Ma = Ci\n",
    "\n",
    "    for _ in range(Na):\n",
    "        Ma *= (1 + Td)\n",
    "    \n",
    "    return Ma\n",
    "\n",
    "capital = float(input(\"Ingrese el capital inicial: \"))\n",
    "tasaI = float(input(\"Ingrese la tasa de interés anual (%): \"))\n",
    "años = int(input(\"Ingrese el número de años: \"))\n",
    "\n",
    "montoTotal = interes_compuesto(capital, tasaI, años)\n",
    "print(f\"El monto acumulado después de {años} años es: {montoTotal:.2f}\")"
   ]
  },
  {
   "cell_type": "code",
   "execution_count": 3,
   "metadata": {},
   "outputs": [
    {
     "name": "stdout",
     "output_type": "stream",
     "text": [
      "El 4-ésimo número de Fibonacci es: 3\n"
     ]
    }
   ],
   "source": [
    "def fibonacci(n, serie={}):\n",
    "    if n in serie:\n",
    "        return serie[n]\n",
    "    \n",
    "    if n == 0:\n",
    "        return 0\n",
    "    elif n == 1:\n",
    "        return 1\n",
    "    \n",
    "    result = fibonacci(n - 1, serie) + fibonacci(n - 2, serie)\n",
    "    serie[n] = result\n",
    "    return result\n",
    "\n",
    "n = int(input(\"Ingrese un número entero n: \"))\n",
    "print(f\"El {n}-ésimo número de Fibonacci es: {fibonacci(n)}\")\n"
   ]
  },
  {
   "cell_type": "code",
   "execution_count": 1,
   "metadata": {},
   "outputs": [
    {
     "name": "stdout",
     "output_type": "stream",
     "text": [
      "Lista original: [64, 34, 25, 12, 22, 11, 90]\n",
      "Lista ordenada: [11, 12, 22, 25, 34, 64, 90]\n"
     ]
    }
   ],
   "source": [
    "def burbuja(numeros):\n",
    "    n = len(numeros)\n",
    "    for i in range(n):\n",
    "        cambio = False\n",
    "        for j in range(n - i - 1):\n",
    "            if numeros[j] > numeros[j + 1]:\n",
    "                numeros[j], numeros[j + 1] = numeros[j + 1], numeros[j]\n",
    "                cambio = True\n",
    "        \n",
    "        if not cambio:\n",
    "            break\n",
    "\n",
    "numeros = [64, 34, 25, 12, 22, 11, 90]\n",
    "print(\"Lista original:\", numeros)\n",
    "burbuja(numeros)\n",
    "print(\"Lista ordenada:\", numeros)"
   ]
  }
 ],
 "metadata": {
  "kernelspec": {
   "display_name": "base",
   "language": "python",
   "name": "python3"
  },
  "language_info": {
   "codemirror_mode": {
    "name": "ipython",
    "version": 3
   },
   "file_extension": ".py",
   "mimetype": "text/x-python",
   "name": "python",
   "nbconvert_exporter": "python",
   "pygments_lexer": "ipython3",
   "version": "3.11.4"
  },
  "orig_nbformat": 4
 },
 "nbformat": 4,
 "nbformat_minor": 2
}
